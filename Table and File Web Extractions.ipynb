{
 "cells": [
  {
   "cell_type": "markdown",
   "metadata": {},
   "source": [
    "# Table and File Extractions"
   ]
  },
  {
   "cell_type": "markdown",
   "metadata": {},
   "source": [
    "This script holds two functions for downloaded files from the web and tables on the webpage.\n",
    "\n",
    "It is set up for the extractions that need to be made.\n",
    "\n",
    "Information needs to be transferred to a Lambda Function in AWS\n",
    "    a. Here code needs to run functions for each source and download output into S3 bucket ready for archiving and transforming\n",
    "    b. Error handling and recording for successful and non-successful extractions required. I.e. website change preventing             extractions from occuring (log what isnt downloading and for what days\n"
   ]
  },
  {
   "cell_type": "code",
   "execution_count": 1,
   "metadata": {},
   "outputs": [],
   "source": [
    "# load library Dependencies ---- Needed for implementation into AWS Lambda function\n",
    "\n",
    "import pandas as pd\n",
    "import requests \n",
    "from bs4 import BeautifulSoup # web scaping\n",
    "from urllib.error import HTTPError\n",
    "\n",
    "# variables to be used in Lambda function\n",
    "\n",
    "########### Exchange Rates #########\n",
    "current_rate_table = \"https://www.rba.gov.au/statistics/frequency/exchange-rates.html\"\n",
    "    # list index is 0\n",
    "    \n",
    "historical_rates_csv = \"https://www.rba.gov.au/statistics/tables/csv/f11.1-data.csv\"\n",
    "\n",
    "############ TGP ###############\n",
    "caltex_pds = \"https://www.caltex.com.au/-/media/pricing/caltex-terminal-gate-prices.ashx\"\n",
    "bp_pfd = \"https://www.bp.com/content/dam/bp/country-sites/en_au/australia/home/products-services/pricing/terminal-gate-price.pdf\"\n",
    "bp_xls = \"https://www.bp.com/content/dam/bp/country-sites/en_au/australia/home/products-services/pricing/tgp-excel.xls\"\n",
    "\n",
    "Mobile_table = \"http://apps.exxonmobil.com.au/apps/htm/mn_mobil_products_automotive_pricing.asp\"\n",
    "    # Mobile list index is 1\n",
    "\n",
    "Liberty_table = \"https://www.libertyoil.com.au/terminal-gate-pricing\"\n",
    "    # cannot find table - Handled with exception \n",
    "    # no list index \n",
    "\n",
    "Viva_table = \"https://www.vivaenergy.com.au/products/terminal-gate-pricing/current-tgp/tgp-current\"\n",
    "    # Viva list index is 0\n",
    "\n",
    "# date for extraction needs to be put into Puma Website URL\n",
    "Puma_table = \"https://www.pumaenergy.com.au/for-business/terminal-gate-price/?date=2020-05-02\"\n",
    "    # Forbidden Error - pretend to be a browser - Handled with exception\n",
    "    # Puma list index is 0-6 for various states/regions\n",
    "    # Sydney is list index 1\n",
    "\n",
    "# They said wholesale price but there is another one for TGP\n",
    "###### CLARIFY with client ########\n",
    "United_table_wholesale = \"https://www.unitedpetroleum.com.au/wholesale/list-pricing/\"\n",
    "    # United Wholesale list index is 0\n",
    "United_table_tgp = \"https://www.unitedpetroleum.com.au/wholesale/tgp-pricing/\"\n",
    "    # United TGP list index is 0"
   ]
  },
  {
   "cell_type": "code",
   "execution_count": 2,
   "metadata": {},
   "outputs": [],
   "source": [
    "def file_website_extraction(website, filename):\n",
    "    req = requests.get(website) # requests the url\n",
    "    url_content = req.content # reads the file content\n",
    "    file = open(filename, 'wb') # creates and opens a file. Ensure the correct file extension\n",
    "    file.write(url_content) # writes the content to the file\n",
    "    file.close() # closes the file connection"
   ]
  },
  {
   "cell_type": "code",
   "execution_count": 3,
   "metadata": {},
   "outputs": [],
   "source": [
    "# website table download\n",
    "def table_website_extraction(website, list_index):\n",
    "    \n",
    "    try:\n",
    "        table = pd.read_html(website) # reads the table from the website as it is. A list\n",
    "        df = pd.DataFrame(table[list_index]) # extracts list element and places into dataframe. This needs to be set for the table\n",
    "        return(df)\n",
    "\n",
    "    except HTTPError as e:\n",
    "        if e.code == 403:\n",
    "            # Pretend I'm a website\n",
    "            header = {\"User-Agent\": \"Mozilla/5.0 (X11; Linux x86_64) AppleWebKit/537.36 (KHTML, like Gecko) Chrome/50.0.2661.75 Safari/537.36\",\n",
    "            \"X-Requested-With\": \"XMLHttpRequest\"}\n",
    "\n",
    "            table = requests.get(website, headers = header)\n",
    "            table2 = pd.read_html(table.text)\n",
    "            df = pd.DataFrame(table2[list_index])\n",
    "            return(df)\n",
    "    \n",
    "    except ValueError: # no tables found\n",
    "        res = requests.get(website)\n",
    "        soup = BeautifulSoup(res.content,'lxml')\n",
    "        \n",
    "        # get informatio from classes that hold the data in the table\n",
    "        result = soup.find_all('div', {'class': ['col-md-2', 'col-md-3']}) # set for Liberty\n",
    "        \n",
    "        # extract information into a list\n",
    "        res = [] \n",
    "        for i in result:\n",
    "            row = [i.text.strip() for i in result if i.text.strip()]\n",
    "            if row:\n",
    "                res.append(row)\n",
    "            \n",
    "        # store data in a dataframe ready for transformation\n",
    "        df = pd.DataFrame(res[0])\n",
    "        return(df)\n",
    "        "
   ]
  },
  {
   "cell_type": "code",
   "execution_count": null,
   "metadata": {},
   "outputs": [],
   "source": []
  }
 ],
 "metadata": {
  "kernelspec": {
   "display_name": "Python 3",
   "language": "python",
   "name": "python3"
  },
  "language_info": {
   "codemirror_mode": {
    "name": "ipython",
    "version": 3
   },
   "file_extension": ".py",
   "mimetype": "text/x-python",
   "name": "python",
   "nbconvert_exporter": "python",
   "pygments_lexer": "ipython3",
   "version": "3.7.3"
  }
 },
 "nbformat": 4,
 "nbformat_minor": 2
}
