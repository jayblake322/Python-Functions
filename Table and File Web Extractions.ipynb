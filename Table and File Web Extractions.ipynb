
    "import pandas as pd\n",
    "import requests \n",
    "from bs4 import BeautifulSoup # web scaping\n",
    "from urllib.error import HTTPError\n",
    "\n",

    "def file_website_extraction(website, filename):\n",
    "    req = requests.get(website) # requests the url\n",
    "    url_content = req.content # reads the file content\n",
    "    file = open(filename, 'wb') # creates and opens a file. Ensure the correct file extension\n",
    "    file.write(url_content) # writes the content to the file\n",
    "    file.close() # closes the file connection"
   ]
  },
  {
   "cell_type": "code",
   "execution_count": 3,
   "metadata": {},
   "outputs": [],
   "source": [
    "# website table download\n",
    "def table_website_extraction(website, list_index):\n",
    "    \n",
    "    try:\n",
    "        table = pd.read_html(website) # reads the table from the website as it is. A list\n",
    "        df = pd.DataFrame(table[list_index]) # extracts list element and places into dataframe. This needs to be set for the table\n",
    "        return(df)\n",
    "\n",
    "    except HTTPError as e:\n",
    "        if e.code == 403:\n",
    "            # Pretend I'm a website\n",
    "            header = {\"User-Agent\": \"Mozilla/5.0 (X11; Linux x86_64) AppleWebKit/537.36 (KHTML, like Gecko) Chrome/50.0.2661.75 Safari/537.36\",\n",
    "            \"X-Requested-With\": \"XMLHttpRequest\"}\n",
    "\n",
    "            table = requests.get(website, headers = header)\n",
    "            table2 = pd.read_html(table.text)\n",
    "            df = pd.DataFrame(table2[list_index])\n",
    "            return(df)\n",
    "    \n",
    "    except ValueError: # no tables found\n",
    "        res = requests.get(website)\n",
    "        soup = BeautifulSoup(res.content,'lxml')\n",
    "        \n",
    "        # get informatio from classes that hold the data in the table\n",
    "        result = soup.find_all('div', {'class': ['col-md-2', 'col-md-3']}) # set for Liberty\n",
    "        \n",
    "        # extract information into a list\n",
    "        res = [] \n",
    "        for i in result:\n",
    "            row = [i.text.strip() for i in result if i.text.strip()]\n",
    "            if row:\n",
    "                res.append(row)\n",
    "            \n",
    "        # store data in a dataframe ready for transformation\n",
    "        df = pd.DataFrame(res[0])\n",
    "        return(df)\n",
    "        "
   ]
  },
  {
   "cell_type": "code",
   "execution_count": null,
   "metadata": {},
   "outputs": [],
   "source": []
  }
 ],
 "metadata": {
  "kernelspec": {
   "display_name": "Python 3",
   "language": "python",
   "name": "python3"
  },
  "language_info": {
   "codemirror_mode": {
    "name": "ipython",
    "version": 3
   },
   "file_extension": ".py",
   "mimetype": "text/x-python",
   "name": "python",
   "nbconvert_exporter": "python",
   "pygments_lexer": "ipython3",
   "version": "3.7.3"
  }
 },
 "nbformat": 4,
 "nbformat_minor": 2
}
